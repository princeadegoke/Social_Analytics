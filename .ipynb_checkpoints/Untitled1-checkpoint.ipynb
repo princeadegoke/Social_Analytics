{
 "cells": [
  {
   "cell_type": "code",
   "execution_count": null,
   "metadata": {
    "collapsed": true
   },
   "outputs": [],
   "source": [
    "InaPyBot\n",
    "The bot receives tweets via mentions and in turn performs sentiment analysis on the most recent twitter account specified in the mention\n",
    "For example, when a user tweets, \"#InaPyBot @CNN\" it will trigger a sentiment analysis on the CNN twitter feed."
   ]
  },
  {
   "cell_type": "code",
   "execution_count": null,
   "metadata": {
    "collapsed": true
   },
   "outputs": [],
   "source": [
    "# Dependencies\n",
    "import tweepy\n",
    "import json\n",
    "import numpy as np\n",
    "import pandas as pd\n",
    "import matplotlib.pyplot as plt\n",
    "import time\n",
    "\n",
    "#To get the current date\n",
    "import datetime\n",
    "\n",
    "\n",
    "# Import and Initialize Sentiment Analyzer\n",
    "from vaderSentiment.vaderSentiment import SentimentIntensityAnalyzer\n",
    "analyzer = SentimentIntensityAnalyzer()\n",
    "\n",
    "# Twitter API Keys\n",
    "consumer_key = \"Your key here\"\n",
    "consumer_secret = \"Your key here\"\n",
    "access_token = \"Your key here\"\n",
    "access_token_secret = \"Your key here\"\n",
    "\n",
    "# Setup Tweepy API Authentication\n",
    "auth = tweepy.OAuthHandler(consumer_key, consumer_secret)\n",
    "auth.set_access_token(access_token, access_token_secret)\n",
    "api = tweepy.API(auth, parser=tweepy.parsers.JSONParser())"
   ]
  },
  {
   "cell_type": "code",
   "execution_count": null,
   "metadata": {
    "collapsed": true
   },
   "outputs": [],
   "source": [
    "def plot_sentiment(sentiment_df,user):\n",
    "    sentiment_df.plot(\"Tweets Ago\",\"Compound\",marker=\"o\", linewidth=0.8, alpha=0.8,linestyle=\"-\",label=user)\n",
    "    plt.legend(bbox_to_anchor = (1,1),title=\"Tweets\")\n",
    "    \n",
    "    plt.xlabel(\"Tweets Ago\")\n",
    "    plt.ylabel(\"Tweet Polarity\")\n",
    "    plt.title(\"Sentiment Analysis of %s (%s)\"%(user.replace(\"@\",\"\"),datetime.datetime.now().strftime('%Y-%m-%d %H:%M:%S')))\n",
    "    \n",
    "    plt.xlim(502,-2)\n",
    "    plt.grid(True)\n",
    "    filename = \"PyBotOutput/Sentiment_Analysis_of_\"+user.replace(\"@\",\"\")+\".png\"\n",
    "    plt.savefig(filename,bbox_inches='tight')\n",
    "    plt.show()\n",
    "    return filename"
   ]
  },
  {
   "cell_type": "code",
   "execution_count": null,
   "metadata": {
    "collapsed": true
   },
   "outputs": [],
   "source": [
    "def Retrieve_Tweets(user):\n",
    "    # Array to hold sentiment\n",
    "    Sentiment_array = []\n",
    "    # Setting the tweet count as 500\n",
    "    tweetcount=500\n",
    "    print(\"Extracting tweets from %s\"%user)\n",
    "\n",
    "    # Extracting  pages of tweets\n",
    "    for x in range(25):\n",
    "        public_tweets=api.user_timeline(user,page=x)\n",
    "        # For each tweet \n",
    "        for tweet in public_tweets:\n",
    "            #Calculating the compound,positive,negative and neutral value for each tweet\n",
    "            compound = analyzer.polarity_scores(tweet[\"text\"])[\"compound\"]\n",
    "            pos = analyzer.polarity_scores(tweet[\"text\"])[\"pos\"]\n",
    "            neu = analyzer.polarity_scores(tweet[\"text\"])[\"neu\"]\n",
    "            neg = analyzer.polarity_scores(tweet[\"text\"])[\"neg\"]\n",
    "            # Store Tweet in Array\n",
    "            Sentiment_array.append({\"Media\":user,\n",
    "                                    \"Tweet Text\":tweet[\"text\"],\n",
    "                                    \"Compound\":compound,\n",
    "                                    \"Positive\":pos,\n",
    "                                    \"Negative\":neg,\n",
    "                                    \"Neutral\":neu,\n",
    "                                    \"Date\":tweet[\"created_at\"],\n",
    "                                    \"Tweets Ago\":tweetcount})\n",
    "            #Decreasing tweet count by 1\n",
    "            tweetcount-=1\n",
    "\n",
    "    print(\"End of Extraction of Tweets\")\n",
    "\n",
    "    # Creating a dataframe from the Sentiment Array\n",
    "    Sentiment_DF=pd.DataFrame.from_dict(Sentiment_array)\n",
    "    # Removing the '@' from Media column in the data frame\n",
    "    Sentiment_DF['Media'] = Sentiment_DF['Media'].map(lambda x: x.lstrip('@'))\n",
    "\n",
    "    # Re_arranging the order of columns before saving into CSV file\n",
    "    Sentiment_DF=Sentiment_DF[[\"Media\",\"Date\",\"Tweet Text\",\"Compound\",\"Positive\",\"Negative\",\"Neutral\",\"Tweets Ago\"]]\n",
    "    filename=plot_sentiment(Sentiment_DF,user)\n",
    "    return filename"
   ]
  },
  {
   "cell_type": "code",
   "execution_count": null,
   "metadata": {
    "collapsed": true
   },
   "outputs": [],
   "source": [
    "def Retrieve_Tweets(user):\n",
    "    # Array to hold sentiment\n",
    "    Sentiment_array = []\n",
    "    # Setting the tweet count as 500\n",
    "    tweetcount=500\n",
    "    print(\"Extracting tweets from %s\"%user)\n",
    "\n",
    "    # Extracting  pages of tweets\n",
    "    for x in range(25):\n",
    "        public_tweets=api.user_timeline(user,page=x)\n",
    "        # For each tweet \n",
    "        for tweet in public_tweets:\n",
    "            #Calculating the compound,positive,negative and neutral value for each tweet\n",
    "            compound = analyzer.polarity_scores(tweet[\"text\"])[\"compound\"]\n",
    "            pos = analyzer.polarity_scores(tweet[\"text\"])[\"pos\"]\n",
    "            neu = analyzer.polarity_scores(tweet[\"text\"])[\"neu\"]\n",
    "            neg = analyzer.polarity_scores(tweet[\"text\"])[\"neg\"]\n",
    "            # Store Tweet in Array\n",
    "            Sentiment_array.append({\"Media\":user,\n",
    "                                    \"Tweet Text\":tweet[\"text\"],\n",
    "                                    \"Compound\":compound,\n",
    "                                    \"Positive\":pos,\n",
    "                                    \"Negative\":neg,\n",
    "                                    \"Neutral\":neu,\n",
    "                                    \"Date\":tweet[\"created_at\"],\n",
    "                                    \"Tweets Ago\":tweetcount})\n",
    "            #Decreasing tweet count by 1\n",
    "            tweetcount-=1\n",
    "\n",
    "    print(\"End of Extraction of Tweets\")\n",
    "\n",
    "    # Creating a dataframe from the Sentiment Array\n",
    "    Sentiment_DF=pd.DataFrame.from_dict(Sentiment_array)\n",
    "    # Removing the '@' from Media column in the data frame\n",
    "    Sentiment_DF['Media'] = Sentiment_DF['Media'].map(lambda x: x.lstrip('@'))\n",
    "\n",
    "    # Re_arranging the order of columns before saving into CSV file\n",
    "    Sentiment_DF=Sentiment_DF[[\"Media\",\"Date\",\"Tweet Text\",\"Compound\",\"Positive\",\"Negative\",\"Neutral\",\"Tweets Ago\"]]\n",
    "    filename=plot_sentiment(Sentiment_DF,user)\n",
    "    return filename"
   ]
  },
  {
   "cell_type": "code",
   "execution_count": null,
   "metadata": {
    "collapsed": true
   },
   "outputs": [],
   "source": [
    "while True:\n",
    "    Search_Request()\n",
    "    time.sleep(300)"
   ]
  },
  {
   "cell_type": "code",
   "execution_count": null,
   "metadata": {
    "collapsed": true
   },
   "outputs": [],
   "source": []
  }
 ],
 "metadata": {
  "kernelspec": {
   "display_name": "Python 3",
   "language": "python",
   "name": "python3"
  },
  "language_info": {
   "codemirror_mode": {
    "name": "ipython",
    "version": 3
   },
   "file_extension": ".py",
   "mimetype": "text/x-python",
   "name": "python",
   "nbconvert_exporter": "python",
   "pygments_lexer": "ipython3",
   "version": "3.6.3"
  }
 },
 "nbformat": 4,
 "nbformat_minor": 2
}
